{
  "cells": [
    {
      "cell_type": "code",
      "execution_count": 13,
      "metadata": {
        "colab": {
          "base_uri": "https://localhost:8080/",
          "height": 125
        },
        "id": "2fCJsMefL7Ku",
        "outputId": "6ac9c046-2867-4e70-e243-4a6eb19681a5"
      },
      "outputs": [],
      "source": [
        "import cv2\n",
        "import os\n",
        "import zipfile\n",
        "\n",
        "def extract_frames(video_path, output_folder):\n",
        "    video = cv2.VideoCapture(video_path)\n",
        "    frame_count = 0\n",
        "    \n",
        "    with zipfile.ZipFile(os.path.join(output_folder, \"frames.zip\"), 'w') as zipf:\n",
        "        while True:\n",
        "            ret, frame = video.read()\n",
        "            if not ret:\n",
        "                break\n",
        "            \n",
        "            output_path = os.path.join(output_folder, f\"frame_{frame_count}.png\")\n",
        "            cv2.imwrite(output_path, frame)\n",
        "            zipf.write(output_path)\n",
        "            os.remove(output_path)\n",
        "            \n",
        "            frame_count += 1\n",
        "    video.release()\n",
        "\n",
        "video_path = input(\"Enter the path to the video file: \")\n",
        "output_folder = input(\"Enter the path to the output folder: \")\n",
        "extract_frames(video_path, output_folder)\n"
      ]
    }
  ],
  "metadata": {
    "colab": {
      "provenance": []
    },
    "kernelspec": {
      "display_name": "Python 3",
      "name": "python3"
    },
    "language_info": {
      "codemirror_mode": {
        "name": "ipython",
        "version": 3
      },
      "file_extension": ".py",
      "mimetype": "text/x-python",
      "name": "python",
      "nbconvert_exporter": "python",
      "pygments_lexer": "ipython3",
      "version": "3.11.4"
    }
  },
  "nbformat": 4,
  "nbformat_minor": 0
}
